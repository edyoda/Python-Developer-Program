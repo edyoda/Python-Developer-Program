{
 "cells": [
  {
   "cell_type": "code",
   "execution_count": null,
   "metadata": {},
   "outputs": [],
   "source": [
    "deco \n",
    "iterators __iter__ __next__\n",
    "    islice(i,0,8) \n",
    "    per(l,2)\n",
    "    com\n",
    "    repeat(\"python\") \n",
    "    cycle(\"python\")\n",
    "    chain \n",
    "    count \n",
    "    \n",
    "map filter lambda \n",
    "map(func,iterable obj)\n",
    "filter(func,ietrable obj) => True \n",
    "gen => yield \n",
    "web scraping\n",
    "    requests=> URL\n",
    "    bs => parse resonse \n",
    "        find(tag,attrs={\"\"})\n",
    "        l = <a href=\"www.google.com\">Click here</a>\n",
    "        l.get(\"href\")\n",
    "csv file parsing \n",
    "  \n",
    "        reader\n",
    "        writer \n",
    "        DictReader\n",
    "        DictWriter \n",
    "        \n",
    "        writer_obj.writerow([])\n",
    "        writer_obj.writerows([[],[],[]])\n",
    "        \n",
    "        reader \n",
    "        for \n",
    "            \n",
    "        next()\n",
    "        \n",
    "        \n",
    "        "
   ]
  },
  {
   "cell_type": "code",
   "execution_count": null,
   "metadata": {},
   "outputs": [],
   "source": [
    "Dict :\n",
    "    d[key] = value \n",
    "    d.setdault(\"key\",\"value\")\n",
    "    \n",
    "    update:\n",
    "        d['key'] = new_value\n",
    "        \n",
    "    delete:\n",
    "        del \n",
    "        clear\n",
    "        pop \n",
    "        popitem\n",
    "        \n",
    "        \n",
    "List:\n",
    "    add:\n",
    "        append\n",
    "        extend\n",
    "        insert \n",
    "        \n",
    "    Update \n",
    "        l[index] = value\n",
    "        \n",
    "    Delete:\n",
    "        pop\n",
    "        remove \n",
    "        del \n",
    "        clear \n",
    "        \n",
    "        \n",
    "Str :\n",
    "    upper lower title capitalize \n",
    "    isupper islower istitle \n",
    "    \n",
    "    isaplha isalnum isdigit isspace\n",
    "    \n",
    "    strip lstrip rstrip \n",
    "    \n",
    "    center ljust rjust \n",
    "    \n",
    "    count find index rfind rindex replace \n",
    "    \n",
    "    split join \n",
    "    \n",
    "    format \n",
    "    \n",
    "        \n",
    "        "
   ]
  },
  {
   "cell_type": "code",
   "execution_count": null,
   "metadata": {},
   "outputs": [],
   "source": [
    "Object Oriented Programming :\n",
    "    \n",
    "Class \n",
    "\n",
    "Object "
   ]
  },
  {
   "cell_type": "code",
   "execution_count": null,
   "metadata": {},
   "outputs": [],
   "source": [
    "Paytm :\n",
    "    phoneno \n",
    "    password \n",
    "    KYC \n",
    "    email \n",
    "    \n",
    "    recharge\n",
    "    add money to wallet \n",
    "    book tickets \n",
    "    \n",
    "user1 \n",
    "user2\n",
    "    \n",
    "\n",
    "\n",
    "    \n",
    "    "
   ]
  },
  {
   "cell_type": "code",
   "execution_count": null,
   "metadata": {},
   "outputs": [],
   "source": [
    "Emp:\n",
    "    emp_id \n",
    "    name\n",
    "    email\n",
    "    contact \n",
    "\n",
    "    get_details \n",
    "    cal_sal \n",
    "    change_dept\n",
    "    \n",
    "    "
   ]
  },
  {
   "cell_type": "code",
   "execution_count": 14,
   "metadata": {},
   "outputs": [
    {
     "name": "stdout",
     "output_type": "stream",
     "text": [
      "0\n",
      "101 ABC abc@xyz.com\n",
      "4\n",
      "{'id': 101, 'name': 'ABC', 'email': 'abc@xyz.com', 'contact': '7123456789', 'dept': 'HR', 'sal': 40000}\n",
      "{'id': 101, 'name': 'ABC', 'email': 'abc@xyz.com', 'contact': '7123456789', 'dept': 'HR', 'sal': 52000.0}\n",
      "101 ABC abc@xyz.com\n",
      "103 XYZ pqr@xyz.com\n",
      "104 RST pqr@xyz.com\n",
      "========Class Variable=======\n",
      "ABCPQR\n"
     ]
    }
   ],
   "source": [
    "class Emp:\n",
    "    count = 0\n",
    "    emps = []\n",
    "    \n",
    "    \n",
    "    @classmethod  \n",
    "    def incr_count(cls):\n",
    "        cls.count+=1\n",
    "        \n",
    "    @classmethod\n",
    "    def add_emp(cls,obj):\n",
    "        cls.emps.append(obj)\n",
    "        \n",
    "    @staticmethod\n",
    "    def printVal(num1,num2):        \n",
    "        print(num1 + num2)    \n",
    "    \n",
    "    def __init__(self,id,name,email,contact):\n",
    "        self.id = id\n",
    "        self.name = name\n",
    "        self.email = email\n",
    "        self.contact = contact\n",
    "        Emp.incr_count()\n",
    "        Emp.add_emp(self)\n",
    "        \n",
    "    def set_dept(self,dept_name):\n",
    "        self.dept = dept_name\n",
    "        \n",
    "    def set_sal(self,sal):\n",
    "        self.sal = sal\n",
    "        \n",
    "    def incr_sal(self,per):\n",
    "        self.sal = self.sal + (self.sal * per)/100 \n",
    "    \n",
    "    def __str__(self):\n",
    "        return \"{} {} {}\".format(self.id,self.name,self.email)\n",
    "    \n",
    "#     def __add__(self):\n",
    "#         return self.name \n",
    "    \n",
    "print(Emp.count)\n",
    "emp1 = Emp(101,\"ABC\",\"abc@xyz.com\",\"7123456789\")\n",
    "print(emp1.id,emp1.name,emp1.email)\n",
    "emp2 = Emp(102,\"PQR\",\"pqr@xyz.com\",\"7123456787\")\n",
    "emp3 = Emp(103,\"XYZ\",\"pqr@xyz.com\",\"7123456787\")\n",
    "emp4 = Emp(104,\"RST\",\"pqr@xyz.com\",\"7123456787\")\n",
    "\n",
    "print(Emp.count)\n",
    "emp1.set_dept(\"HR\")\n",
    "emp2.set_dept(\"Admin\")\n",
    "emp3.set_dept(\"HR\")\n",
    "emp4.set_dept(\"HR\")\n",
    "\n",
    "\n",
    "emp1.set_sal(40000)\n",
    "emp2.set_sal(65000)\n",
    "emp3.set_sal(70000)\n",
    "emp4.set_sal(70000)\n",
    "\n",
    "print(emp1.__dict__)\n",
    "emp1.incr_sal(30)\n",
    "print(emp1.__dict__)\n",
    "\n",
    "emps = [emp1,emp2,emp3,emp4]\n",
    "for emp in emps:\n",
    "    if emp.sal > 50000 and emp.dept == \"HR\":\n",
    "        print(emp)\n",
    "\n",
    "# Sal > 50K and dept is HR\n",
    "print(\"========Class Variable=======\")\n",
    "# print(Emp.x)\n",
    "# print(emp1.x)\n",
    "\n",
    "# print(emp1.__dict__)\n",
    "# emp1.x = 500 \n",
    "# print(emp1.__dict__)\n",
    "\n",
    "# print(Emp.x)\n",
    "# print(emp1.x)\n",
    "\n",
    "# print(Emp.emps)\n",
    "# print(emp1 + emp2)\n",
    "Emp.printVal(emp1.name,emp2.name)"
   ]
  },
  {
   "cell_type": "code",
   "execution_count": null,
   "metadata": {},
   "outputs": [],
   "source": [
    "User:\n",
    "    id \n",
    "    first_name\n",
    "    last_name\n",
    "    email\n",
    "    password \n",
    "    \n",
    "Profile \n",
    "    act no\n",
    "    adhacontr\n",
    "    linkein link"
   ]
  },
  {
   "cell_type": "code",
   "execution_count": 40,
   "metadata": {},
   "outputs": [
    {
     "name": "stdout",
     "output_type": "stream",
     "text": [
      "1 ABC 9123456789 www.linkedin.com/abc\n"
     ]
    }
   ],
   "source": [
    "class User:\n",
    "    def __init__(self,id,name,email,password):\n",
    "        self.id = id\n",
    "        self.name = name\n",
    "        self.email = email\n",
    "        self.password = password\n",
    "\n",
    "    def get_name(self):\n",
    "        return self.name\n",
    "    \n",
    "    def get_id(self):\n",
    "        return self.id\n",
    "    \n",
    "    def set_name(self,name):\n",
    "        self.name = name\n",
    "    \n",
    "    def get_details(self):\n",
    "        return \"{} {}\".format(self.id,self.name)\n",
    "    \n",
    "class Admin:\n",
    "    def get_details(self):\n",
    "        return \"Str from admin method\"\n",
    "    \n",
    "class Profile(Admin,User):\n",
    "    def __init__(self,id,name,email,password,contact,linkedin):\n",
    "        super().__init__(id,name,email,password)\n",
    "        self.contact = contact\n",
    "        self.linkedin = linkedin\n",
    "        \n",
    "    def get_details(self):\n",
    "        name_details = User.get_details(self)\n",
    "        return \"{} {} {}\".format(name_details,self.contact,self.linkedin)\n",
    "        \n",
    "u = User(1,\"ABC\",\"abc@xyz.com\",\"test@123\")\n",
    "\n",
    "# print(u.__name)\n",
    "# print(User.__name)\n",
    "p1 = Profile(1,\"ABC\",\"abc@xyz.com\",\"test@123\",\"9123456789\",\"www.linkedin.com/abc\")\n",
    "print(p1.get_details())\n",
    "# help(p1)\n",
    "\n",
    "# depth first left to rigth\n",
    "# User Admin\n",
    "#    Profile \n"
   ]
  },
  {
   "cell_type": "code",
   "execution_count": 27,
   "metadata": {},
   "outputs": [
    {
     "ename": "TypeError",
     "evalue": "printVal() missing 1 required positional argument: 'num3'",
     "output_type": "error",
     "traceback": [
      "\u001b[1;31m---------------------------------------------------------------------------\u001b[0m",
      "\u001b[1;31mTypeError\u001b[0m                                 Traceback (most recent call last)",
      "\u001b[1;32m<ipython-input-27-f173f8b04f78>\u001b[0m in \u001b[0;36m<module>\u001b[1;34m()\u001b[0m\n\u001b[0;32m      5\u001b[0m     \u001b[0mprint\u001b[0m\u001b[1;33m(\u001b[0m\u001b[0mnum1\u001b[0m\u001b[1;33m+\u001b[0m\u001b[0mnum2\u001b[0m\u001b[1;33m+\u001b[0m\u001b[0mnum3\u001b[0m\u001b[1;33m)\u001b[0m\u001b[1;33m\u001b[0m\u001b[0m\n\u001b[0;32m      6\u001b[0m \u001b[1;33m\u001b[0m\u001b[0m\n\u001b[1;32m----> 7\u001b[1;33m \u001b[0mprintVal\u001b[0m\u001b[1;33m(\u001b[0m\u001b[1;36m10\u001b[0m\u001b[1;33m,\u001b[0m\u001b[1;36m20\u001b[0m\u001b[1;33m)\u001b[0m\u001b[1;33m\u001b[0m\u001b[0m\n\u001b[0m\u001b[0;32m      8\u001b[0m \u001b[0mprintVal\u001b[0m\u001b[1;33m(\u001b[0m\u001b[1;36m10\u001b[0m\u001b[1;33m,\u001b[0m\u001b[1;36m20\u001b[0m\u001b[1;33m,\u001b[0m\u001b[1;36m30\u001b[0m\u001b[1;33m)\u001b[0m\u001b[1;33m\u001b[0m\u001b[0m\n",
      "\u001b[1;31mTypeError\u001b[0m: printVal() missing 1 required positional argument: 'num3'"
     ]
    }
   ],
   "source": [
    "def printVal(*args):\n",
    "    print(num1+num2)\n",
    "    \n",
    "def printVal(num1,num2,num3):\n",
    "    print(num1+num2+num3)\n",
    "    \n",
    "printVal(10,20)\n",
    "printVal(10,20,30)\n",
    "\n",
    "\n",
    "\n",
    "\n"
   ]
  },
  {
   "cell_type": "code",
   "execution_count": null,
   "metadata": {},
   "outputs": [],
   "source": [
    "method overriding"
   ]
  },
  {
   "cell_type": "code",
   "execution_count": null,
   "metadata": {},
   "outputs": [],
   "source": [
    "Course \n",
    "    c_id \n",
    "    c_name \n",
    "    c_author\n",
    "    c_category\n",
    "\n",
    "Tutorial\n",
    "    t_id\n",
    "    t_name\n",
    "    t_content\n",
    "    t_course = Object of class course \n",
    "    \n",
    "    \n",
    "All the tutorials of author ABC\n",
    "Courses and total no of tutorails in them \n",
    "    \"Python\" 5 \n",
    "    \"ML\" 10 "
   ]
  },
  {
   "cell_type": "code",
   "execution_count": 10,
   "metadata": {},
   "outputs": [
    {
     "name": "stdout",
     "output_type": "stream",
     "text": [
      "Loops looping stmt\n",
      "list looping stmt\n",
      "DevOps Principles DevOps\n",
      "{'Python': 2, 'DevOps': 1}\n"
     ]
    }
   ],
   "source": [
    "class Course:\n",
    "    courses = []\n",
    "    def __init__(self,id,name,auth,cat): \n",
    "        self.c_id = id \n",
    "        self.c_name = name\n",
    "        self.c_author= auth\n",
    "        self.c_category = cat\n",
    "        Course.courses.append(self)\n",
    "\n",
    "class Tutorial:\n",
    "    tuts = []\n",
    "    def __init__(self,id,name,content,course):\n",
    "        self.t_id = id\n",
    "        self.t_name = name\n",
    "        self.t_content = content\n",
    "        self.t_course = course\n",
    "        Tutorial.tuts.append(self)\n",
    "        \n",
    "course1 = Course(1,\"Python\",\"ABC\",\"Programming\")\n",
    "course2 = Course(2,\"Machin Learning\",\"PQR\",\"Programming\")\n",
    "course3 = Course(3,\"DevOps\",\"ABC\",\"Programming\")\n",
    "\n",
    "tut1 = Tutorial(101,\"Loops\",\"looping stmt\",course1)\n",
    "tut2 = Tutorial(102,\"list\",\"looping stmt\",course1)\n",
    "tut3 = Tutorial(103,\"DevOps Principles\",\"DevOps\",course3)\n",
    "\n",
    "for tut in Tutorial.tuts:\n",
    "    if tut.t_course.c_author == \"ABC\":\n",
    "        print(tut.t_name,tut.t_content)\n",
    "\n",
    "tut_count = {}        \n",
    "for tut in Tutorial.tuts:\n",
    "    if tut.t_course.c_name in tut_count:\n",
    "        tut_count[tut.t_course.c_name] +=1\n",
    "    else:\n",
    "        tut_count[tut.t_course.c_name] =1\n",
    "print(tut_count)\n",
    "    "
   ]
  },
  {
   "cell_type": "code",
   "execution_count": null,
   "metadata": {},
   "outputs": [],
   "source": [
    "# from abc import ABC\n",
    "# from abc import AbstactMethod\n",
    "class User:\n",
    "    def get_details(self):\n",
    "        pass \n"
   ]
  },
  {
   "cell_type": "code",
   "execution_count": null,
   "metadata": {},
   "outputs": [],
   "source": [
    "Exception Handling:"
   ]
  },
  {
   "cell_type": "code",
   "execution_count": null,
   "metadata": {},
   "outputs": [],
   "source": [
    "syntax error \n",
    "logical errors\n",
    "    index error \n",
    "    key error \n",
    "    Unsupported operation"
   ]
  },
  {
   "cell_type": "code",
   "execution_count": 41,
   "metadata": {},
   "outputs": [
    {
     "ename": "IndexError",
     "evalue": "list index out of range",
     "output_type": "error",
     "traceback": [
      "\u001b[1;31m---------------------------------------------------------------------------\u001b[0m",
      "\u001b[1;31mIndexError\u001b[0m                                Traceback (most recent call last)",
      "\u001b[1;32m<ipython-input-41-7a28dec69b20>\u001b[0m in \u001b[0;36m<module>\u001b[1;34m()\u001b[0m\n\u001b[0;32m      1\u001b[0m \u001b[0ml\u001b[0m \u001b[1;33m=\u001b[0m \u001b[1;33m[\u001b[0m\u001b[1;36m10\u001b[0m\u001b[1;33m,\u001b[0m\u001b[1;36m20\u001b[0m\u001b[1;33m,\u001b[0m\u001b[1;36m30\u001b[0m\u001b[1;33m]\u001b[0m\u001b[1;33m\u001b[0m\u001b[0m\n\u001b[1;32m----> 2\u001b[1;33m \u001b[0mprint\u001b[0m\u001b[1;33m(\u001b[0m\u001b[0ml\u001b[0m\u001b[1;33m[\u001b[0m\u001b[1;36m100\u001b[0m\u001b[1;33m]\u001b[0m\u001b[1;33m)\u001b[0m\u001b[1;33m\u001b[0m\u001b[0m\n\u001b[0m",
      "\u001b[1;31mIndexError\u001b[0m: list index out of range"
     ]
    }
   ],
   "source": [
    "l = [10,20,30]\n",
    "print(l[100])"
   ]
  },
  {
   "cell_type": "code",
   "execution_count": 42,
   "metadata": {},
   "outputs": [
    {
     "name": "stdout",
     "output_type": "stream",
     "text": [
      "['ArithmeticError', 'AssertionError', 'AttributeError', 'BaseException', 'BlockingIOError', 'BrokenPipeError', 'BufferError', 'BytesWarning', 'ChildProcessError', 'ConnectionAbortedError', 'ConnectionError', 'ConnectionRefusedError', 'ConnectionResetError', 'DeprecationWarning', 'EOFError', 'Ellipsis', 'EnvironmentError', 'Exception', 'False', 'FileExistsError', 'FileNotFoundError', 'FloatingPointError', 'FutureWarning', 'GeneratorExit', 'IOError', 'ImportError', 'ImportWarning', 'IndentationError', 'IndexError', 'InterruptedError', 'IsADirectoryError', 'KeyError', 'KeyboardInterrupt', 'LookupError', 'MemoryError', 'ModuleNotFoundError', 'NameError', 'None', 'NotADirectoryError', 'NotImplemented', 'NotImplementedError', 'OSError', 'OverflowError', 'PendingDeprecationWarning', 'PermissionError', 'ProcessLookupError', 'RecursionError', 'ReferenceError', 'ResourceWarning', 'RuntimeError', 'RuntimeWarning', 'StopAsyncIteration', 'StopIteration', 'SyntaxError', 'SyntaxWarning', 'SystemError', 'SystemExit', 'TabError', 'TimeoutError', 'True', 'TypeError', 'UnboundLocalError', 'UnicodeDecodeError', 'UnicodeEncodeError', 'UnicodeError', 'UnicodeTranslateError', 'UnicodeWarning', 'UserWarning', 'ValueError', 'Warning', 'WindowsError', 'ZeroDivisionError', '__IPYTHON__', '__build_class__', '__debug__', '__doc__', '__import__', '__loader__', '__name__', '__package__', '__spec__', 'abs', 'all', 'any', 'ascii', 'bin', 'bool', 'bytearray', 'bytes', 'callable', 'chr', 'classmethod', 'compile', 'complex', 'copyright', 'credits', 'delattr', 'dict', 'dir', 'display', 'divmod', 'enumerate', 'eval', 'exec', 'filter', 'float', 'format', 'frozenset', 'get_ipython', 'getattr', 'globals', 'hasattr', 'hash', 'help', 'hex', 'id', 'input', 'int', 'isinstance', 'issubclass', 'iter', 'len', 'license', 'list', 'locals', 'map', 'max', 'memoryview', 'min', 'next', 'object', 'oct', 'open', 'ord', 'pow', 'print', 'property', 'range', 'repr', 'reversed', 'round', 'set', 'setattr', 'slice', 'sorted', 'staticmethod', 'str', 'sum', 'super', 'tuple', 'type', 'vars', 'zip']\n"
     ]
    }
   ],
   "source": [
    "print(dir(__builtins__))"
   ]
  },
  {
   "cell_type": "code",
   "execution_count": 55,
   "metadata": {},
   "outputs": [
    {
     "name": "stdout",
     "output_type": "stream",
     "text": [
      "No exception raised\n",
      "This statement will always get exceuted \n",
      "Statement after try and except\n"
     ]
    }
   ],
   "source": [
    "class ValueLessThan50(Exception):\n",
    "    pass\n",
    "\n",
    "a = 20\n",
    "try:\n",
    "#     if a < 50:\n",
    "#         raise ValueLessThan50(\"Value of variable is less than 50\")    \n",
    "    l = [10,20,30,40,50]\n",
    "#     l = l[100]\n",
    "except IndexError as e:\n",
    "    print(\"Invalid index\",e)\n",
    "except NameError:\n",
    "    print(\"Varibale not defined\")\n",
    "except ValueLessThan50 as e:\n",
    "    print(\"User defined exception raised\",e)\n",
    "except Exception as e:\n",
    "    print(\"Something went wrong\",e)\n",
    "else:\n",
    "    print(\"No exception raised\")\n",
    "finally:\n",
    "    print(\"This statement will always get exceuted \")\n",
    "print(\"Statement after try and except\")"
   ]
  },
  {
   "cell_type": "code",
   "execution_count": null,
   "metadata": {},
   "outputs": [],
   "source": [
    "raise "
   ]
  },
  {
   "cell_type": "code",
   "execution_count": null,
   "metadata": {},
   "outputs": [],
   "source": [
    "Exception"
   ]
  },
  {
   "cell_type": "code",
   "execution_count": null,
   "metadata": {},
   "outputs": [],
   "source": [
    "Relational => oracle,mysql,postgres,sqlite,db2\n",
    "db:\n",
    "    table1\n",
    "    Columns => id int , name varchar,email varchar  \n",
    "    1,\"abc\",'abc@gmail.com'\n",
    "    table2\n",
    "\n",
    "Non relational => MongoDB,Cassandra\n",
    "db :\n",
    "    collections \n",
    "    {\n",
    "        \"name\":\"ABC\"\n",
    "        \"email\":\"abc@gmail.com\"\n",
    "    }\n",
    "    \n",
    "    {\n",
    "        \"name\":\"ABC\"\n",
    "        \"email\":\"abc@gmail.com\"\n",
    "        \"contact\" :\"9123456788\"\n",
    "    }\n",
    "    \n",
    "    "
   ]
  },
  {
   "cell_type": "code",
   "execution_count": null,
   "metadata": {},
   "outputs": [],
   "source": [
    "Data API 2.0 "
   ]
  },
  {
   "cell_type": "code",
   "execution_count": null,
   "metadata": {},
   "outputs": [],
   "source": [
    "connect()\n",
    "    host =\"\"\n",
    "    database = \"\"\n",
    "    user = \"\"\n",
    "    password =\"\"\n",
    "close()\n",
    "execute(\"\"\" \"\"\")"
   ]
  },
  {
   "cell_type": "code",
   "execution_count": 1,
   "metadata": {},
   "outputs": [
    {
     "name": "stdout",
     "output_type": "stream",
     "text": [
      "<connection object at 0x000001D53B487990; dsn: 'user=postgres password=xxx dbname=emp host=localhost port=5432', closed: 0>\n"
     ]
    }
   ],
   "source": [
    "import psycopg2\n",
    "conn= psycopg2.connect(user =\"postgres\",password=\"test@123\",host=\"localhost\",database=\"emp\",port=5432)\n",
    "print(conn)"
   ]
  },
  {
   "cell_type": "code",
   "execution_count": 3,
   "metadata": {},
   "outputs": [
    {
     "name": "stdout",
     "output_type": "stream",
     "text": [
      "<cursor object at 0x000001D53B09B128; closed: 0>\n"
     ]
    }
   ],
   "source": [
    "cur = conn.cursor()\n",
    "print(cur)"
   ]
  },
  {
   "cell_type": "code",
   "execution_count": 80,
   "metadata": {},
   "outputs": [],
   "source": [
    "cur.execute(\"\"\"CREATE TABLE EMP2(ID INT,NAME VARCHAR(32),EMAIL VARCHAR(32));\"\"\")"
   ]
  },
  {
   "cell_type": "code",
   "execution_count": 7,
   "metadata": {},
   "outputs": [
    {
     "ename": "ProgrammingError",
     "evalue": "relation \"emp1\" does not exist\nLINE 1: INSERT INTO EMP1(ID,NAME,EMAIL) VALUES (101,'ABC','abc@xyz.c...\n                    ^\n",
     "output_type": "error",
     "traceback": [
      "\u001b[1;31m---------------------------------------------------------------------------\u001b[0m",
      "\u001b[1;31mProgrammingError\u001b[0m                          Traceback (most recent call last)",
      "\u001b[1;32m<ipython-input-7-be9d3de7ea6f>\u001b[0m in \u001b[0;36m<module>\u001b[1;34m()\u001b[0m\n\u001b[1;32m----> 1\u001b[1;33m \u001b[0mcur\u001b[0m\u001b[1;33m.\u001b[0m\u001b[0mexecute\u001b[0m\u001b[1;33m(\u001b[0m\u001b[1;34m\"\"\"INSERT INTO EMP1(ID,NAME,EMAIL) VALUES (101,'ABC','abc@xyz.com');\"\"\"\u001b[0m\u001b[1;33m)\u001b[0m\u001b[1;33m\u001b[0m\u001b[0m\n\u001b[0m",
      "\u001b[1;31mProgrammingError\u001b[0m: relation \"emp1\" does not exist\nLINE 1: INSERT INTO EMP1(ID,NAME,EMAIL) VALUES (101,'ABC','abc@xyz.c...\n                    ^\n"
     ]
    }
   ],
   "source": [
    "cur.execute(\"\"\"INSERT INTO EMP1(ID,NAME,EMAIL) VALUES (101,'ABC','abc@xyz.com');\"\"\")"
   ]
  },
  {
   "cell_type": "code",
   "execution_count": 6,
   "metadata": {},
   "outputs": [],
   "source": [
    "conn.rollback()"
   ]
  },
  {
   "cell_type": "code",
   "execution_count": 1,
   "metadata": {},
   "outputs": [],
   "source": [
    "import sqlite3\n",
    "conn = sqlite3.connect(database = \"test_db.db\")\n",
    "cur = conn.cursor()"
   ]
  },
  {
   "cell_type": "code",
   "execution_count": 19,
   "metadata": {},
   "outputs": [
    {
     "data": {
      "text/plain": [
       "<sqlite3.Cursor at 0x282fd10c880>"
      ]
     },
     "execution_count": 19,
     "metadata": {},
     "output_type": "execute_result"
    }
   ],
   "source": [
    "cur.execute(\"\"\"CREATE TABLE IF NOT EXISTS EMP(ID INT,NAME VARCHAR2(32),EMAIL VARCHAR2(32)) \"\"\")"
   ]
  },
  {
   "cell_type": "code",
   "execution_count": 5,
   "metadata": {},
   "outputs": [
    {
     "data": {
      "text/plain": [
       "<sqlite3.Cursor at 0x282fd10c880>"
      ]
     },
     "execution_count": 5,
     "metadata": {},
     "output_type": "execute_result"
    }
   ],
   "source": [
    "cur.execute(\"\"\"INSERT INTO EMP(ID,NAME,EMAIL) VALUES (101,'ABC','abc@xyz.com')\"\"\")"
   ]
  },
  {
   "cell_type": "code",
   "execution_count": 6,
   "metadata": {},
   "outputs": [
    {
     "data": {
      "text/plain": [
       "<sqlite3.Cursor at 0x282fd10c880>"
      ]
     },
     "execution_count": 6,
     "metadata": {},
     "output_type": "execute_result"
    }
   ],
   "source": [
    "cur.execute(\"\"\"INSERT INTO EMP(ID,NAME,EMAIL) VALUES (102,'XYZ','xyz@xyz.com')\"\"\")"
   ]
  },
  {
   "cell_type": "code",
   "execution_count": 7,
   "metadata": {},
   "outputs": [],
   "source": [
    "conn.commit()"
   ]
  },
  {
   "cell_type": "code",
   "execution_count": 8,
   "metadata": {},
   "outputs": [
    {
     "data": {
      "text/plain": [
       "<sqlite3.Cursor at 0x282fd10c880>"
      ]
     },
     "execution_count": 8,
     "metadata": {},
     "output_type": "execute_result"
    }
   ],
   "source": [
    "cur.execute(\"SELECT * FROM EMP\")\n"
   ]
  },
  {
   "cell_type": "code",
   "execution_count": 9,
   "metadata": {},
   "outputs": [
    {
     "name": "stdout",
     "output_type": "stream",
     "text": [
      "<sqlite3.Cursor object at 0x00000282FD10C880>\n",
      "(101, 'ABC', 'abc@xyz.com')\n"
     ]
    }
   ],
   "source": [
    "print(cur)\n",
    "print(next(cur))"
   ]
  },
  {
   "cell_type": "code",
   "execution_count": 10,
   "metadata": {},
   "outputs": [
    {
     "name": "stdout",
     "output_type": "stream",
     "text": [
      "(102, 'XYZ', 'xyz@xyz.com')\n"
     ]
    }
   ],
   "source": [
    "print(next(cur))"
   ]
  },
  {
   "cell_type": "code",
   "execution_count": 11,
   "metadata": {},
   "outputs": [
    {
     "name": "stdout",
     "output_type": "stream",
     "text": [
      "(101, 'ABC', 'abc@xyz.com')\n"
     ]
    }
   ],
   "source": [
    "cur.execute(\"SELECT * FROM EMP\")\n",
    "print(cur.fetchone())"
   ]
  },
  {
   "cell_type": "code",
   "execution_count": 12,
   "metadata": {},
   "outputs": [
    {
     "name": "stdout",
     "output_type": "stream",
     "text": [
      "[(101, 'ABC', 'abc@xyz.com'), (102, 'XYZ', 'xyz@xyz.com')]\n"
     ]
    }
   ],
   "source": [
    "cur.execute(\"SELECT * FROM EMP\")\n",
    "print(cur.fetchall())"
   ]
  },
  {
   "cell_type": "code",
   "execution_count": 13,
   "metadata": {},
   "outputs": [],
   "source": [
    "cur.execute(\"\"\" UPDATE EMP SET NAME='RST' WHERE ID =102 \"\"\")\n",
    "conn.commit()"
   ]
  },
  {
   "cell_type": "code",
   "execution_count": 14,
   "metadata": {},
   "outputs": [
    {
     "name": "stdout",
     "output_type": "stream",
     "text": [
      "(102, 'RST', 'xyz@xyz.com')\n"
     ]
    }
   ],
   "source": [
    "cur.execute(\"\"\" SELECT * FROM EMP WHERE ID = 102\"\"\")\n",
    "print(next(cur))"
   ]
  },
  {
   "cell_type": "code",
   "execution_count": 15,
   "metadata": {},
   "outputs": [
    {
     "data": {
      "text/plain": [
       "<sqlite3.Cursor at 0x282fd10c880>"
      ]
     },
     "execution_count": 15,
     "metadata": {},
     "output_type": "execute_result"
    }
   ],
   "source": [
    "cur.execute(\"\"\" DELETE FROM EMP WHERE ID =102\"\"\")\n"
   ]
  },
  {
   "cell_type": "code",
   "execution_count": 16,
   "metadata": {},
   "outputs": [
    {
     "name": "stdout",
     "output_type": "stream",
     "text": [
      "[(101, 'ABC', 'abc@xyz.com')]\n"
     ]
    }
   ],
   "source": [
    "cur.execute(\"SELECT * FROM EMP\")\n",
    "print(cur.fetchall())"
   ]
  },
  {
   "cell_type": "code",
   "execution_count": null,
   "metadata": {},
   "outputs": [],
   "source": [
    "Connection=> connect \n",
    "             commit \n",
    "             create cursor \n",
    "             rollback\n",
    "            \n",
    "Cursor "
   ]
  },
  {
   "cell_type": "code",
   "execution_count": null,
   "metadata": {},
   "outputs": [],
   "source": [
    "SQL => Structured Query Languages\n",
    "MySQL \n",
    "Oracle \n",
    "DB2"
   ]
  }
 ],
 "metadata": {
  "kernelspec": {
   "display_name": "Python 3",
   "language": "python",
   "name": "python3"
  },
  "language_info": {
   "codemirror_mode": {
    "name": "ipython",
    "version": 3
   },
   "file_extension": ".py",
   "mimetype": "text/x-python",
   "name": "python",
   "nbconvert_exporter": "python",
   "pygments_lexer": "ipython3",
   "version": "3.6.5"
  }
 },
 "nbformat": 4,
 "nbformat_minor": 2
}
