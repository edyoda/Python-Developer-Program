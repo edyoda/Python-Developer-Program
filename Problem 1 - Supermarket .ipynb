{
 "cells": [
  {
   "cell_type": "markdown",
   "metadata": {},
   "source": [
    "In a normal supermarket, things are identified using Stock Keeping Units,. In our store, we’ll use individual letters of the alphabet (A, B, C, and so on). Our goods are priced individually. In addition, some items are multipriced: buy n of them, and they’ll cost you y Rs. For example, item ‘A’ might cost 50 Rs individually, but this week we have a special offer: buy three ‘A’s and they’ll cost you 120Rs. In fact this week’s prices are:\n",
    "\n",
    "  Item   Unit      Special\n",
    "         Price     Price\n",
    "  --------------------------\n",
    "    A     50       3 for 120\n",
    "    B     30       2 for 45\n",
    "    C     20\n",
    "    D     15\n",
    "    \n",
    "Our checkout accepts items in any order, so that if we scan a B, an A, and another B, we’ll recognize the two B’s and price them at 45 . Because the pricing changes frequently, we need to be able to pass in a set of pricing rules each time we start handling a checkout transaction.\n",
    "\n"
   ]
  },
  {
   "cell_type": "code",
   "execution_count": null,
   "metadata": {},
   "outputs": [],
   "source": [
    "Wt for prods \n",
    "Expire date \n",
    "Category "
   ]
  },
  {
   "cell_type": "code",
   "execution_count": null,
   "metadata": {},
   "outputs": [],
   "source": [
    "n items with given price "
   ]
  },
  {
   "cell_type": "code",
   "execution_count": null,
   "metadata": {},
   "outputs": [],
   "source": [
    "Supermarket =>1 \n",
    "    Products\n",
    "       prices \n",
    "\n",
    "Custo => n "
   ]
  },
  {
   "cell_type": "code",
   "execution_count": null,
   "metadata": {},
   "outputs": [],
   "source": [
    "1. cust 1  3 A 2 B 5 D => Calculate the bill => indian curr \n",
    "\n",
    "2. Add new products\n",
    "3. Set the prices , change the prices \n",
    "\n",
    "4. Setting up the special offers \n",
    "    specific to product with quantity \n",
    "    \n",
    "\n",
    "\n"
   ]
  },
  {
   "cell_type": "code",
   "execution_count": null,
   "metadata": {},
   "outputs": [],
   "source": [
    "func(q,p) => variable kwargs args\n",
    "    global dict => {\"name\":price,\"name\":price,\"name\":price}\n",
    "    \n",
    "cust1\n",
    "cust2\n",
    "cust3 "
   ]
  },
  {
   "cell_type": "code",
   "execution_count": null,
   "metadata": {},
   "outputs": [],
   "source": [
    "pid,name,price\n",
    "\n",
    "pid, 5\n",
    "\n",
    "cust obj \n",
    "\n"
   ]
  },
  {
   "cell_type": "code",
   "execution_count": null,
   "metadata": {},
   "outputs": [],
   "source": [
    "product \n",
    "    add product \n",
    "    change price \n",
    "\n",
    "cust obj \n",
    "    cart \n",
    "    cal_bill"
   ]
  },
  {
   "cell_type": "code",
   "execution_count": null,
   "metadata": {},
   "outputs": [],
   "source": [
    "product :\n",
    "    id \n",
    "    name\n",
    "    price \n",
    "    total_quantity \n",
    "    offer\n",
    "    \n",
    "    add_product \n",
    "    delete_prod\n",
    "    change_price \n",
    "    update_stock \n",
    "    \n",
    "Cust :\n",
    "    cust_id\n",
    "    name\n",
    "    contact_no  \n",
    "    \n",
    "    add_to_cart(product,q)\n",
    "    remove_from_kart()\n",
    "    request_bill(cart,mode_payment)\n",
    "    \n",
    "Supermarket\n",
    "    \n",
    "    CGST = 5%\n",
    "    SGST = 5% \n",
    "    cal_bill(cart) => Total Bill \n",
    "\n",
    "Offers\n",
    "    id \n",
    "    product \n",
    "    quantity \n",
    "    offer price \n",
    "    valid_till \n",
    "    \n",
    "    add_offer()\n",
    "    remove_offer()\n",
    "    update_offer()   \n",
    "    "
   ]
  },
  {
   "cell_type": "code",
   "execution_count": null,
   "metadata": {},
   "outputs": [],
   "source": []
  },
  {
   "cell_type": "code",
   "execution_count": 47,
   "metadata": {},
   "outputs": [],
   "source": [
    "class Product:\n",
    "    def __init__(self,p_id,p_name,u_price,total_quantity):\n",
    "        self.p_id = p_id\n",
    "        self.p_name = p_name\n",
    "        self.p_price = u_price\n",
    "        self.p_quantity = total_quantity\n",
    "        \n",
    "    def remove_product(self):\n",
    "        id = self.p_id\n",
    "        del self\n",
    "        return id\n",
    "    \n",
    "    def change_price(self,new_price):\n",
    "        self.p_price = new_price\n",
    "        \n",
    "    def update_stock(self,current_quantity):\n",
    "        self.p_quantity = current_quantity\n",
    "        \n",
    "    def __str__(self):\n",
    "        return \"{} {}\".format(self.p_id,self.p_name)\n",
    "        \n",
    "        \n",
    "        "
   ]
  },
  {
   "cell_type": "code",
   "execution_count": 48,
   "metadata": {},
   "outputs": [],
   "source": [
    "class SuperMarket:\n",
    "    \n",
    "    @classmethod\n",
    "    def cal_bill(cls,cart):\n",
    "        total_ammount = 0\n",
    "       \n",
    "        for prod,quantity in cart.items():\n",
    "#             print(prod.p_price,quantity,total_ammount)\n",
    "            total_ammount += prod.p_price * quantity\n",
    "            \n",
    "        \n",
    "        total_ammount += total_ammount * 0.05\n",
    "        return total_ammount\n",
    "        "
   ]
  },
  {
   "cell_type": "code",
   "execution_count": 49,
   "metadata": {},
   "outputs": [],
   "source": [
    "class Customer:\n",
    "    def __init__(self,c_id,c_name,c_contact,c_cart = {}):\n",
    "        self.c_id = c_id\n",
    "        self.c_name = c_name\n",
    "        self.c_contact = c_contact\n",
    "        self.c_cart = c_cart\n",
    "        \n",
    "    def add_to_cart(self,prod,quantity):\n",
    "        if prod in self.c_cart:\n",
    "            self.c_cart[prod]= self.c_cart[prod] + quantity\n",
    "        else:\n",
    "            self.c_cart.setdefault(prod,quantity)\n",
    "            \n",
    "    def remove_from_kart(self,prod):\n",
    "        if prod in self.c_cart:\n",
    "            id = prod.p_id\n",
    "            self.c_cart.pop(prod)\n",
    "            return id\n",
    "        \n",
    "    def req_bill(self):\n",
    "        return SuperMarket.cal_bill(self.c_cart)\n",
    "        \n",
    "            \n",
    "    \n",
    "        "
   ]
  },
  {
   "cell_type": "code",
   "execution_count": 50,
   "metadata": {},
   "outputs": [
    {
     "name": "stdout",
     "output_type": "stream",
     "text": [
      "101 A\n",
      "102 B\n",
      "103 C\n"
     ]
    }
   ],
   "source": [
    "p1 = Product(101,\"A\",50,500)\n",
    "p2 = Product(102,\"B\",30,50)\n",
    "p3 = Product(103,\"C\",20,500)\n",
    "\n",
    "print(p1)\n",
    "print(p2)\n",
    "print(p3)\n",
    "\n"
   ]
  },
  {
   "cell_type": "code",
   "execution_count": 11,
   "metadata": {},
   "outputs": [
    {
     "name": "stdout",
     "output_type": "stream",
     "text": [
      "101\n"
     ]
    }
   ],
   "source": [
    "print(p1.remove_product())"
   ]
  },
  {
   "cell_type": "code",
   "execution_count": 13,
   "metadata": {},
   "outputs": [
    {
     "name": "stdout",
     "output_type": "stream",
     "text": [
      "{'p_id': 101, 'p_name': 'A', 'p_price': 50, 'p_quantity': 500}\n"
     ]
    }
   ],
   "source": [
    "print(p1.__dict__)"
   ]
  },
  {
   "cell_type": "code",
   "execution_count": 51,
   "metadata": {},
   "outputs": [],
   "source": [
    "c1 = Customer(1,\"ABC\",\"+914789988\")"
   ]
  },
  {
   "cell_type": "code",
   "execution_count": 52,
   "metadata": {},
   "outputs": [
    {
     "name": "stdout",
     "output_type": "stream",
     "text": [
      "{'c_id': 1, 'c_name': 'ABC', 'c_contact': '+914789988', 'c_cart': {}}\n"
     ]
    }
   ],
   "source": [
    "print(c1.__dict__)"
   ]
  },
  {
   "cell_type": "code",
   "execution_count": 53,
   "metadata": {},
   "outputs": [],
   "source": [
    "c1.add_to_cart(p1,3)\n",
    "c1.add_to_cart(p2,5)\n",
    "c1.add_to_cart(p1,2)\n",
    "c1.add_to_cart(p3,1)\n",
    "\n",
    "\n"
   ]
  },
  {
   "cell_type": "code",
   "execution_count": 54,
   "metadata": {},
   "outputs": [
    {
     "name": "stdout",
     "output_type": "stream",
     "text": [
      "{'c_id': 1, 'c_name': 'ABC', 'c_contact': '+914789988', 'c_cart': {<__main__.Product object at 0x00000277D321AC88>: 5, <__main__.Product object at 0x00000277D321A518>: 5, <__main__.Product object at 0x00000277D321A4E0>: 1}}\n"
     ]
    }
   ],
   "source": [
    "print(c1.__dict__)"
   ]
  },
  {
   "cell_type": "code",
   "execution_count": 55,
   "metadata": {},
   "outputs": [
    {
     "name": "stdout",
     "output_type": "stream",
     "text": [
      "441.0\n"
     ]
    }
   ],
   "source": [
    "print(c1.req_bill())"
   ]
  }
 ],
 "metadata": {
  "kernelspec": {
   "display_name": "Python 3",
   "language": "python",
   "name": "python3"
  },
  "language_info": {
   "codemirror_mode": {
    "name": "ipython",
    "version": 3
   },
   "file_extension": ".py",
   "mimetype": "text/x-python",
   "name": "python",
   "nbconvert_exporter": "python",
   "pygments_lexer": "ipython3",
   "version": "3.6.5"
  }
 },
 "nbformat": 4,
 "nbformat_minor": 2
}
