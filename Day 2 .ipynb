{
 "cells": [
  {
   "cell_type": "code",
   "execution_count": 3,
   "metadata": {},
   "outputs": [
    {
     "name": "stdout",
     "output_type": "stream",
     "text": [
      "{1: 1, 2: 4, 3: 16, 5: 25}\n"
     ]
    }
   ],
   "source": [
    "d1 = {1:1,2:4,3:9}\n",
    "d2 = {3:16,5:25}\n",
    "d1.update(d2)\n",
    "print(d1)"
   ]
  },
  {
   "cell_type": "code",
   "execution_count": 3,
   "metadata": {},
   "outputs": [
    {
     "name": "stdout",
     "output_type": "stream",
     "text": [
      "None\n"
     ]
    }
   ],
   "source": [
    "def str_rev(input):\n",
    "    input[::-1]\n",
    "\n",
    "result = str_rev(\"Python\")\n",
    "print(result)"
   ]
  },
  {
   "cell_type": "code",
   "execution_count": 4,
   "metadata": {},
   "outputs": [
    {
     "name": "stdout",
     "output_type": "stream",
     "text": [
      "None\n"
     ]
    }
   ],
   "source": [
    "l = [10,20,30]\n",
    "l.append(40)\n",
    "print(x)"
   ]
  },
  {
   "cell_type": "code",
   "execution_count": null,
   "metadata": {},
   "outputs": [],
   "source": [
    "positional \n",
    "keyword\n",
    "default \n",
    "variable length positional *args \n",
    "variable length keywords **kwargs\n"
   ]
  },
  {
   "cell_type": "code",
   "execution_count": 7,
   "metadata": {},
   "outputs": [
    {
     "ename": "TypeError",
     "evalue": "add() missing 1 required positional argument: 'num2'",
     "output_type": "error",
     "traceback": [
      "\u001b[1;31m---------------------------------------------------------------------------\u001b[0m",
      "\u001b[1;31mTypeError\u001b[0m                                 Traceback (most recent call last)",
      "\u001b[1;32m<ipython-input-7-8e5f6a02afcb>\u001b[0m in \u001b[0;36m<module>\u001b[1;34m()\u001b[0m\n\u001b[0;32m      2\u001b[0m     \u001b[1;32mreturn\u001b[0m \u001b[0mnum1\u001b[0m \u001b[1;33m+\u001b[0m \u001b[0mnum2\u001b[0m\u001b[1;33m\u001b[0m\u001b[0m\n\u001b[0;32m      3\u001b[0m \u001b[1;33m\u001b[0m\u001b[0m\n\u001b[1;32m----> 4\u001b[1;33m \u001b[0mprint\u001b[0m\u001b[1;33m(\u001b[0m\u001b[0madd\u001b[0m\u001b[1;33m(\u001b[0m\u001b[1;36m10\u001b[0m\u001b[1;33m)\u001b[0m\u001b[1;33m)\u001b[0m\u001b[1;33m\u001b[0m\u001b[0m\n\u001b[0m",
      "\u001b[1;31mTypeError\u001b[0m: add() missing 1 required positional argument: 'num2'"
     ]
    }
   ],
   "source": [
    "def add(num1,num2):\n",
    "    return num1 + num2\n",
    "\n",
    "print(add(10))"
   ]
  },
  {
   "cell_type": "code",
   "execution_count": 10,
   "metadata": {},
   "outputs": [
    {
     "name": "stdout",
     "output_type": "stream",
     "text": [
      "0 0\n",
      "0\n"
     ]
    }
   ],
   "source": [
    "def add(num1=0,num2=0):\n",
    "    print(num1,num2)\n",
    "    return num1 + num2\n",
    "\n",
    "print(add())"
   ]
  },
  {
   "cell_type": "code",
   "execution_count": 11,
   "metadata": {},
   "outputs": [],
   "source": [
    "import random\n"
   ]
  },
  {
   "cell_type": "code",
   "execution_count": 14,
   "metadata": {},
   "outputs": [
    {
     "name": "stdout",
     "output_type": "stream",
     "text": [
      "0.9413091468893422\n"
     ]
    }
   ],
   "source": [
    "print(random.random())"
   ]
  },
  {
   "cell_type": "code",
   "execution_count": 42,
   "metadata": {},
   "outputs": [
    {
     "name": "stdout",
     "output_type": "stream",
     "text": [
      "49\n",
      "47\n",
      "22.177149517735906\n"
     ]
    }
   ],
   "source": [
    "print(random.randint(10,50))\n",
    "print(random.randrange(10,50))\n",
    "print(random.uniform(10,50))"
   ]
  },
  {
   "cell_type": "code",
   "execution_count": 57,
   "metadata": {},
   "outputs": [
    {
     "name": "stdout",
     "output_type": "stream",
     "text": [
      "6\n"
     ]
    }
   ],
   "source": [
    "l = [1,2,3,4,5,6]\n",
    "print(random.choice(l))"
   ]
  },
  {
   "cell_type": "code",
   "execution_count": null,
   "metadata": {},
   "outputs": [],
   "source": [
    "Generate a 8 char long default password\n",
    "1 Upper case \n",
    "1 Lower case \n",
    "1 special char \n",
    "5 digits\n",
    "\n",
    "ord \n",
    "chr"
   ]
  },
  {
   "cell_type": "code",
   "execution_count": 73,
   "metadata": {},
   "outputs": [
    {
     "name": "stdout",
     "output_type": "stream",
     "text": [
      "F\n"
     ]
    }
   ],
   "source": [
    "import random\n",
    "print(chr(random.randint(65,90)))"
   ]
  },
  {
   "cell_type": "code",
   "execution_count": 116,
   "metadata": {},
   "outputs": [
    {
     "name": "stdout",
     "output_type": "stream",
     "text": [
      "3@j213\n"
     ]
    }
   ],
   "source": [
    "def gen_pass(num=8):\n",
    "    upper = chr(random.randint(65,90))\n",
    "    lower = chr(random.randint(97,122))\n",
    "    special_chars = [\"!\",\"@\",\"#\",\"$\"]\n",
    "    special = random.choice(special_chars)\n",
    "    digits = random.randint(10000,99999)\n",
    "    \n",
    "    password = upper+lower+special+str(digits)\n",
    "    \n",
    "    l = random.sample(password,num)\n",
    "    \n",
    "    return (\"\").join(l)\n",
    "\n",
    "result = gen_pass(6)\n",
    "print(result)"
   ]
  },
  {
   "cell_type": "code",
   "execution_count": null,
   "metadata": {},
   "outputs": [],
   "source": [
    "print(\"HI\",end=\" \",sep=\",\")"
   ]
  },
  {
   "cell_type": "code",
   "execution_count": 117,
   "metadata": {},
   "outputs": [
    {
     "name": "stdout",
     "output_type": "stream",
     "text": [
      "Help on built-in function print in module builtins:\n",
      "\n",
      "print(...)\n",
      "    print(value, ..., sep=' ', end='\\n', file=sys.stdout, flush=False)\n",
      "    \n",
      "    Prints the values to a stream, or to sys.stdout by default.\n",
      "    Optional keyword arguments:\n",
      "    file:  a file-like object (stream); defaults to the current sys.stdout.\n",
      "    sep:   string inserted between values, default a space.\n",
      "    end:   string appended after the last value, default a newline.\n",
      "    flush: whether to forcibly flush the stream.\n",
      "\n"
     ]
    }
   ],
   "source": [
    "help(print)"
   ]
  },
  {
   "cell_type": "code",
   "execution_count": null,
   "metadata": {},
   "outputs": [],
   "source": [
    "keyword arg:\n",
    "    "
   ]
  },
  {
   "cell_type": "code",
   "execution_count": 120,
   "metadata": {},
   "outputs": [
    {
     "name": "stdout",
     "output_type": "stream",
     "text": [
      "Valid credentials\n"
     ]
    }
   ],
   "source": [
    "def login(username,password):\n",
    "    if username ==\"abc\" and password == \"abc@123\":\n",
    "        print(\"Valid credentials\")\n",
    "    else:\n",
    "        print(\"Invalid credentials\")\n",
    "        \n",
    "login(password =\"abc@123\",username=\"abc\")"
   ]
  },
  {
   "cell_type": "code",
   "execution_count": null,
   "metadata": {},
   "outputs": [],
   "source": [
    "print(10,20,30,end=\" \",sep=\";\")"
   ]
  },
  {
   "cell_type": "code",
   "execution_count": null,
   "metadata": {},
   "outputs": [],
   "source": [
    "Variable length positional "
   ]
  },
  {
   "cell_type": "code",
   "execution_count": 1,
   "metadata": {},
   "outputs": [
    {
     "name": "stdout",
     "output_type": "stream",
     "text": [
      "(10, 20, 30, 40, 50)\n"
     ]
    }
   ],
   "source": [
    "def add(*args):\n",
    "    print(args)\n",
    "    return sum(args)\n",
    "\n",
    "add(10,20,30,40,50)\n",
    "add(10,20,30,40,50,60,70)\n",
    "add()"
   ]
  },
  {
   "cell_type": "code",
   "execution_count": 2,
   "metadata": {},
   "outputs": [
    {
     "name": "stdout",
     "output_type": "stream",
     "text": [
      "{'username': 'abc', 'email': 'abc@gmail.com', 'phone': '123456789', 'dob': '16-09-2019'}\n",
      "{'username': 'abc', 'email': 'abc@gmail.com', 'dob': '16-09-2019'}\n",
      "{'username': 'abc', 'phone': '123456789', 'dob': '16-09-2019'}\n"
     ]
    }
   ],
   "source": [
    "# Variable length keyword\n",
    "# form username,email ,phonenumber,dob\n",
    "def get_details(**kwargs):\n",
    "    print(kwargs)\n",
    "\n",
    "get_details(username=\"abc\",email =\"abc@gmail.com\",phone = \"123456789\",dob = \"16-09-2019\")\n",
    "get_details(username=\"abc\",email =\"abc@gmail.com\",dob = \"16-09-2019\")\n",
    "get_details(username=\"abc\",phone = \"123456789\",dob = \"16-09-2019\")"
   ]
  },
  {
   "cell_type": "code",
   "execution_count": 6,
   "metadata": {},
   "outputs": [
    {
     "name": "stdout",
     "output_type": "stream",
     "text": [
      "(30, 40, 50) {'username': 'abc', 'email': 'abc@gmail.com', 'phone': '123456789', 'dob': '16-09-2019'}\n"
     ]
    },
    {
     "ename": "TypeError",
     "evalue": "get_details() missing 2 required positional arguments: 'num1' and 'num2'",
     "output_type": "error",
     "traceback": [
      "\u001b[1;31m---------------------------------------------------------------------------\u001b[0m",
      "\u001b[1;31mTypeError\u001b[0m                                 Traceback (most recent call last)",
      "\u001b[1;32m<ipython-input-6-e5799c4dc34b>\u001b[0m in \u001b[0;36m<module>\u001b[1;34m()\u001b[0m\n\u001b[0;32m      3\u001b[0m \u001b[1;33m\u001b[0m\u001b[0m\n\u001b[0;32m      4\u001b[0m \u001b[0mget_details\u001b[0m\u001b[1;33m(\u001b[0m\u001b[1;36m10\u001b[0m\u001b[1;33m,\u001b[0m\u001b[1;36m20\u001b[0m\u001b[1;33m,\u001b[0m\u001b[1;36m30\u001b[0m\u001b[1;33m,\u001b[0m\u001b[1;36m40\u001b[0m\u001b[1;33m,\u001b[0m\u001b[1;36m50\u001b[0m\u001b[1;33m,\u001b[0m\u001b[0musername\u001b[0m\u001b[1;33m=\u001b[0m\u001b[1;34m\"abc\"\u001b[0m\u001b[1;33m,\u001b[0m\u001b[0memail\u001b[0m \u001b[1;33m=\u001b[0m\u001b[1;34m\"abc@gmail.com\"\u001b[0m\u001b[1;33m,\u001b[0m\u001b[0mphone\u001b[0m \u001b[1;33m=\u001b[0m \u001b[1;34m\"123456789\"\u001b[0m\u001b[1;33m,\u001b[0m\u001b[0mdob\u001b[0m \u001b[1;33m=\u001b[0m \u001b[1;34m\"16-09-2019\"\u001b[0m\u001b[1;33m)\u001b[0m\u001b[1;33m\u001b[0m\u001b[0m\n\u001b[1;32m----> 5\u001b[1;33m \u001b[0mget_details\u001b[0m\u001b[1;33m(\u001b[0m\u001b[0musername\u001b[0m\u001b[1;33m=\u001b[0m\u001b[1;34m\"abc\"\u001b[0m\u001b[1;33m,\u001b[0m\u001b[0memail\u001b[0m \u001b[1;33m=\u001b[0m\u001b[1;34m\"abc@gmail.com\"\u001b[0m\u001b[1;33m,\u001b[0m\u001b[0mdob\u001b[0m \u001b[1;33m=\u001b[0m \u001b[1;34m\"16-09-2019\"\u001b[0m\u001b[1;33m)\u001b[0m\u001b[1;33m\u001b[0m\u001b[0m\n\u001b[0m\u001b[0;32m      6\u001b[0m \u001b[0mget_details\u001b[0m\u001b[1;33m(\u001b[0m\u001b[0musername\u001b[0m\u001b[1;33m=\u001b[0m\u001b[1;34m\"abc\"\u001b[0m\u001b[1;33m,\u001b[0m\u001b[0mphone\u001b[0m \u001b[1;33m=\u001b[0m \u001b[1;34m\"123456789\"\u001b[0m\u001b[1;33m,\u001b[0m\u001b[0mdob\u001b[0m \u001b[1;33m=\u001b[0m \u001b[1;34m\"16-09-2019\"\u001b[0m\u001b[1;33m)\u001b[0m\u001b[1;33m\u001b[0m\u001b[0m\n",
      "\u001b[1;31mTypeError\u001b[0m: get_details() missing 2 required positional arguments: 'num1' and 'num2'"
     ]
    }
   ],
   "source": [
    "def get_details(num1,num2,*args,**kwargs):\n",
    "    print(args,kwargs)\n",
    "\n",
    "get_details(10,20,30,40,50,username=\"abc\",email =\"abc@gmail.com\",phone = \"123456789\",dob = \"16-09-2019\")\n",
    "get_details(username=\"abc\",email =\"abc@gmail.com\",dob = \"16-09-2019\")\n",
    "get_details(username=\"abc\",phone = \"123456789\",dob = \"16-09-2019\")"
   ]
  },
  {
   "cell_type": "code",
   "execution_count": 6,
   "metadata": {},
   "outputs": [
    {
     "name": "stdout",
     "output_type": "stream",
     "text": [
      "pythonjavaC\n"
     ]
    }
   ],
   "source": [
    "# def add(num1,num2,num3):\n",
    "#     return num1+num2+num3\n",
    "\n",
    "# l = \"pqrs\"\n",
    "# print(add(*l)) => positionl args\n",
    "\n",
    "# d = {\"num3\":\"C\",\"num1\":\"python\",\"num2\":\"java\"}\n",
    "# print(add(**d))\n",
    "\n",
    "# add(num1 = \"python\",num2 = \"java\",num3 = \"C\")"
   ]
  },
  {
   "cell_type": "code",
   "execution_count": null,
   "metadata": {},
   "outputs": [],
   "source": [
    "1. Positional => total no args in func def and func call should be same, seq for args \n",
    "2. Keyword => args in fun def , use those in func call , u can change the order of passing the values\n",
    "3. Default => Set default value in func def \n",
    "4. Var Positional => *args => tuple  \n",
    "5. Var length Keyword => **kwargs => dict \n",
    "6. Unpacking => *var name, len of the iterable should be eaqul no of par "
   ]
  },
  {
   "cell_type": "code",
   "execution_count": 7,
   "metadata": {},
   "outputs": [
    {
     "ename": "NameError",
     "evalue": "name 'num1' is not defined",
     "output_type": "error",
     "traceback": [
      "\u001b[1;31m---------------------------------------------------------------------------\u001b[0m",
      "\u001b[1;31mNameError\u001b[0m                                 Traceback (most recent call last)",
      "\u001b[1;32m<ipython-input-7-ed55cf28f1b0>\u001b[0m in \u001b[0;36m<module>\u001b[1;34m()\u001b[0m\n\u001b[0;32m      2\u001b[0m     \u001b[0mnum1\u001b[0m \u001b[1;33m=\u001b[0m \u001b[1;36m100\u001b[0m\u001b[1;33m\u001b[0m\u001b[0m\n\u001b[0;32m      3\u001b[0m     \u001b[0mprint\u001b[0m\u001b[1;33m(\u001b[0m\u001b[1;34m\"Inside func\"\u001b[0m\u001b[1;33m,\u001b[0m\u001b[0mnum1\u001b[0m\u001b[1;33m)\u001b[0m\u001b[1;33m\u001b[0m\u001b[0m\n\u001b[1;32m----> 4\u001b[1;33m \u001b[0mprint\u001b[0m\u001b[1;33m(\u001b[0m\u001b[0mnum1\u001b[0m\u001b[1;33m)\u001b[0m\u001b[1;33m\u001b[0m\u001b[0m\n\u001b[0m",
      "\u001b[1;31mNameError\u001b[0m: name 'num1' is not defined"
     ]
    }
   ],
   "source": [
    "def printval():\n",
    "    num1 = 100\n",
    "    print(\"Inside func\",num1)\n",
    "print(num1)"
   ]
  },
  {
   "cell_type": "code",
   "execution_count": 13,
   "metadata": {},
   "outputs": [
    {
     "name": "stdout",
     "output_type": "stream",
     "text": [
      "Inside func 100\n",
      "Inside func-2  100\n",
      "Outside func 100\n"
     ]
    }
   ],
   "source": [
    "def printval():  \n",
    "#     global num1\n",
    "    print(\"Inside func\",num1)\n",
    "#     num1 = 500 \n",
    "    print(\"Inside func-2 \",num1) \n",
    "    \n",
    "    \n",
    "num1 = 100\n",
    "printval()\n",
    "print(\"Outside func\",num1)\n"
   ]
  },
  {
   "cell_type": "code",
   "execution_count": 17,
   "metadata": {},
   "outputs": [
    {
     "name": "stdout",
     "output_type": "stream",
     "text": [
      "New Features\n",
      "PEP 563: Postponed Evaluation of Annotations\n",
      "The advent of type hints in Python uncovered two glaring usability issues with the functionality of annotations added in PEP 3107 and refined further in PEP 526:\n",
      "\n",
      "annotations could only use names which were already available in the current scope, in other words they didn’t support forward references of any kind; and\n",
      "\n",
      "annotating source code had adverse effects on startup time of Python programs.\n",
      "\n",
      "Both of these issues are fixed by postponing the evaluation of annotations. Instead of compiling code which executes expressions in annotations at their definition time, the compiler stores the annotation in a string form equivalent to the AST of the expression in question. If needed, annotations can be resolved at runtime using typing.get_type_hints(). In the common case where this is not required, the annotations are cheaper to store (since short strings are interned by the interpreter) and make startup time faster.\n",
      "\n",
      "Usability-wise, annotations now support forward references, making the following syntax valid:\n"
     ]
    }
   ],
   "source": [
    "fp = open(\"test_py.txt\",\"r\",encoding=\"utf-8\")\n",
    "content = fp.read()\n",
    "print(content)\n",
    "fp.close()"
   ]
  },
  {
   "cell_type": "code",
   "execution_count": 23,
   "metadata": {},
   "outputs": [
    {
     "name": "stdout",
     "output_type": "stream",
     "text": [
      "0\n",
      "1078\n",
      "New Features\n",
      "PEP 563: Postponed Evaluation of Annotations\n",
      "The advent of type hints in Python uncovered two glaring usability issues with the functionality of annotations added in PEP 3107 and refined further in PEP 526:\n",
      "\n",
      "annotations could only use names which were already available in the current scope, in other words they didn’t support forward references of any kind; and\n",
      "\n",
      "annotating source code had adverse effects on startup time of Python programs.\n",
      "\n",
      "Both of these issues are fixed by postponing the evaluation of annotations. Instead of compiling code which executes expressions in annotations at their definition time, the compiler stores the annotation in a string form equivalent to the AST of the expression in question. If needed, annotations can be resolved at runtime using typing.get_type_hints(). In the common case where this is not required, the annotations are cheaper to store (since short strings are interned by the interpreter) and make startup time faster.\n",
      "\n",
      "Usability-wise, annotations now support forward references, making the following syntax valid:\n",
      "----------------------\n",
      "0\n",
      "New Features\n",
      "PEP 563: Postponed Evaluation of Annotations\n",
      "The advent of type hints in Python uncovered two glaring usability issues with the functionality of annotations added in PEP 3107 and refined further in PEP 526:\n",
      "\n",
      "annotations could only use names which were already available in the current scope, in other words they didn’t support forward references of any kind; and\n",
      "\n",
      "annotating source code had adverse effects on startup time of Python programs.\n",
      "\n",
      "Both of these issues are fixed by postponing the evaluation of annotations. Instead of compiling code which executes expressions in annotations at their definition time, the compiler stores the annotation in a string form equivalent to the AST of the expression in question. If needed, annotations can be resolved at runtime using typing.get_type_hints(). In the common case where this is not required, the annotations are cheaper to store (since short strings are interned by the interpreter) and make startup time faster.\n",
      "\n",
      "Usability-wise, annotations now support forward references, making the following syntax valid:\n"
     ]
    }
   ],
   "source": [
    "fp = open(\"test_py.txt\",\"r\",encoding=\"utf-8\")\n",
    "print(fp.tell())\n",
    "content = fp.read()\n",
    "print(fp.tell())\n",
    "print(content)\n",
    "print(\"----------------------\")\n",
    "fp.seek(0,0)\n",
    "print(fp.tell())\n",
    "content = fp.read()\n",
    "print(content)"
   ]
  },
  {
   "cell_type": "code",
   "execution_count": null,
   "metadata": {},
   "outputs": [],
   "source": [
    "seek(offset,position)\n",
    "Offset = > How many chars \n",
    "\n",
    "position : 0 => start of the file \n",
    "           1 => current location\n",
    "           2 => end of the file \n",
    "            \n",
    "seek(15,0) => move fp by 15 char from start of the file \n",
    "seek(0,2)  => move fp by 0 chars from end of the file => end of the file \n",
    "seek(15,2) => error \n",
    "seek(15,1) => error \n",
    "\n",
    "tell()"
   ]
  },
  {
   "cell_type": "code",
   "execution_count": 24,
   "metadata": {},
   "outputs": [
    {
     "name": "stdout",
     "output_type": "stream",
     "text": [
      "New Features\n",
      "\n",
      "PEP 563: Postponed Evaluation of Annotations\n",
      "\n",
      "The advent of type hints in Python uncovered two glaring usability issues with the functionality of annotations added in PEP 3107 and refined further in PEP 526:\n",
      "\n",
      "\n",
      "\n",
      "annotations could only use names which were already available in the current scope, in other words they didn’t support forward references of any kind; and\n",
      "\n",
      "\n",
      "\n",
      "annotating source code had adverse effects on startup time of Python programs.\n",
      "\n",
      "\n",
      "\n",
      "Both of these issues are fixed by postponing the evaluation of annotations. Instead of compiling code which executes expressions in annotations at their definition time, the compiler stores the annotation in a string form equivalent to the AST of the expression in question. If needed, annotations can be resolved at runtime using typing.get_type_hints(). In the common case where this is not required, the annotations are cheaper to store (since short strings are interned by the interpreter) and make startup time faster.\n",
      "\n",
      "\n",
      "\n",
      "Usability-wise, annotations now support forward references, making the following syntax valid:\n"
     ]
    }
   ],
   "source": [
    "fp = open(\"test_py.txt\",\"r\",encoding=\"utf-8\")\n",
    "for x in fp:\n",
    "    print(x)"
   ]
  },
  {
   "cell_type": "code",
   "execution_count": 25,
   "metadata": {},
   "outputs": [
    {
     "name": "stdout",
     "output_type": "stream",
     "text": [
      "New Features\n",
      "PEP 563: Postponed Evaluation of Anno\n"
     ]
    }
   ],
   "source": [
    "fp = open(\"test_py.txt\",\"r\",encoding=\"utf-8\")\n",
    "content = fp.read()\n",
    "print(content)"
   ]
  },
  {
   "cell_type": "code",
   "execution_count": 29,
   "metadata": {},
   "outputs": [
    {
     "name": "stdout",
     "output_type": "stream",
     "text": [
      "11\n"
     ]
    }
   ],
   "source": [
    "fp = open(\"test_py.txt\",\"r\",encoding=\"utf-8\")\n",
    "content = fp.readlines()\n",
    "print(len(content))"
   ]
  },
  {
   "cell_type": "code",
   "execution_count": 31,
   "metadata": {},
   "outputs": [
    {
     "name": "stdout",
     "output_type": "stream",
     "text": [
      "New Features\n",
      "\n",
      "PEP 563: Postponed Evaluation of Annotations\n",
      "\n",
      "The advent of type hints in Python uncovered two glaring usability issues with the functionality of annotations added in PEP 3107 and refined further in PEP 526:\n",
      "\n"
     ]
    }
   ],
   "source": [
    "fp = open(\"test_py.txt\",\"r\",encoding=\"utf-8\")\n",
    "content = fp.readline()\n",
    "print(content)\n",
    "\n",
    "content = fp.readline()\n",
    "print(content)\n",
    "\n",
    "content = fp.readline()\n",
    "print(content)"
   ]
  },
  {
   "cell_type": "code",
   "execution_count": 37,
   "metadata": {},
   "outputs": [
    {
     "name": "stdout",
     "output_type": "stream",
     "text": [
      "\n"
     ]
    }
   ],
   "source": [
    "fp = open(\"test2.txt\",\"w+\")\n",
    "content = fp.read()\n",
    "print(content)\n",
    "\n",
    "fp.write(\"Add this content to the file \")\n",
    "fp.seek(0,0)\n",
    "\n",
    "fp.close()"
   ]
  },
  {
   "cell_type": "code",
   "execution_count": 41,
   "metadata": {},
   "outputs": [],
   "source": [
    "fp = open(\"test2.txt\",\"r+\")\n",
    "fp.seek(0,2)\n",
    "fp.write(\"******\")\n",
    "\n",
    "fp.close()"
   ]
  },
  {
   "cell_type": "code",
   "execution_count": null,
   "metadata": {},
   "outputs": [],
   "source": [
    "a => fp => end of the file write \n",
    "a+ => fp => end of the file write + read "
   ]
  },
  {
   "cell_type": "code",
   "execution_count": null,
   "metadata": {},
   "outputs": [],
   "source": [
    "r => start, error, read\n",
    "r+ => start,error, read + write \n",
    "\n",
    "w => start,craete new file , write =>  old content will not be maintained\n",
    "w+ => start,craete new file , read + write => old content will not be maintained \n",
    "\n",
    "a => end, create new file , write  \n",
    "a+ => end, create new file , write and read\n",
    "\n",
    "seek\n",
    "0 => start\n",
    "1 => current \n",
    "2 => end of the file \n",
    "\n",
    "tell"
   ]
  },
  {
   "cell_type": "code",
   "execution_count": null,
   "metadata": {},
   "outputs": [],
   "source": [
    "Regx:\n",
    "    Pattern Validation \n",
    "    Pattern extraction "
   ]
  },
  {
   "cell_type": "code",
   "execution_count": null,
   "metadata": {},
   "outputs": [],
   "source": [
    "meta charcters \n",
    "    [a-z] char class => match with lower case letter  => 1 char a 0r b or or ...or z \n",
    "    [a-zA-Z]\n",
    "    [0-9] => digit class => 1 occurance of digit \n",
    "    + => atleast one occurance or more\n",
    "    * => zero or more\n",
    "    ^ => start of the string \n",
    "    $ => end of the string \n",
    "    {5}=> 5 occrance \n",
    "    {2,5} => min 2 max = 5\n",
    "    ? => optional \n",
    "    . => match with anything \n",
    "    \n",
    "\n",
    "    "
   ]
  },
  {
   "cell_type": "code",
   "execution_count": 44,
   "metadata": {},
   "outputs": [
    {
     "name": "stdout",
     "output_type": "stream",
     "text": [
      "['a', 'b', 'c', 'd', '1', '2', '3', '4', '5']\n"
     ]
    }
   ],
   "source": [
    "import re \n",
    "s = \"abcd12345\"\n",
    "r = re.compile(\"[a-z0-9]\")\n",
    "l =  re.findall(r,s)\n",
    "print(l)"
   ]
  },
  {
   "cell_type": "code",
   "execution_count": 60,
   "metadata": {},
   "outputs": [
    {
     "name": "stdout",
     "output_type": "stream",
     "text": [
      "['abc12345']\n"
     ]
    }
   ],
   "source": [
    "import re \n",
    "s = \"abc12345\"\n",
    "r = re.compile(\"^[a-z]{2,5}[0-9]{5}$\")\n",
    "l =  re.findall(r,s)\n",
    "print(l)"
   ]
  },
  {
   "cell_type": "code",
   "execution_count": 64,
   "metadata": {},
   "outputs": [
    {
     "name": "stdout",
     "output_type": "stream",
     "text": [
      "[]\n"
     ]
    }
   ],
   "source": [
    "s = \"AAAAABCDE1234ABBBBB\"\n",
    "r = re.compile(\"^[A-Z]{5}[0-9]{4}[A-Z]$\")\n",
    "l = re.findall(r,s)\n",
    "print(l)"
   ]
  },
  {
   "cell_type": "code",
   "execution_count": 94,
   "metadata": {},
   "outputs": [
    {
     "name": "stdout",
     "output_type": "stream",
     "text": [
      "6123456789\n"
     ]
    }
   ],
   "source": [
    "s = \"+91-6123456789\"\n",
    "# s = \"6123456789\"\n",
    "r = re.compile(\"^(\\+91-)?([6-9][0-9]{9})$\")\n",
    "# l = re.findall(r,s)\n",
    "\n",
    "l = re.search(r,s)\n",
    "if l:    \n",
    "    print(l.group(2))\n",
    "else:\n",
    "    print(\"Pattern not found\")\n",
    "\n"
   ]
  },
  {
   "cell_type": "code",
   "execution_count": 72,
   "metadata": {},
   "outputs": [
    {
     "name": "stdout",
     "output_type": "stream",
     "text": [
      "['python']\n"
     ]
    }
   ],
   "source": [
    "s = \"python\"\n",
    "r =  re.compile(\"python[0-9]?\")\n",
    "l = re.findall(r,s)\n",
    "print(l)"
   ]
  },
  {
   "cell_type": "code",
   "execution_count": 99,
   "metadata": {},
   "outputs": [
    {
     "name": "stdout",
     "output_type": "stream",
     "text": [
      "www.edyoda.com\n"
     ]
    }
   ],
   "source": [
    "s = \"http://www.edyoda.com\"\n",
    "# s1 = \"http://www.edyoda.com\"\n",
    "r = re.compile(\"http[s]?://(www\\.[a-z]+\\.com)$\")\n",
    "m =  re.search(r,s)\n",
    "if m:\n",
    "    print(m.group(1))\n",
    "else:\n",
    "    print(\"Invalid url\")"
   ]
  },
  {
   "cell_type": "code",
   "execution_count": 104,
   "metadata": {},
   "outputs": [
    {
     "name": "stdout",
     "output_type": "stream",
     "text": [
      "abcd123@xyz.com\n"
     ]
    }
   ],
   "source": [
    "s = \"abcd123@xyz.com\"\n",
    "r = re.compile(\"^[a-z0-9\\._]+@[a-z]+\\.com$\")\n",
    "m =  re.search(r,s)\n",
    "if m:\n",
    "    print(m.group())\n",
    "else:\n",
    "    print(\"Invalid email\")"
   ]
  },
  {
   "cell_type": "code",
   "execution_count": null,
   "metadata": {},
   "outputs": [],
   "source": [
    "only 1 @\n",
    "_,.,"
   ]
  },
  {
   "cell_type": "code",
   "execution_count": 110,
   "metadata": {},
   "outputs": [
    {
     "name": "stdout",
     "output_type": "stream",
     "text": [
      "2019\n"
     ]
    }
   ],
   "source": [
    "s = \"31-14-2019\"\n",
    "r = re.compile(\"^(?P<day>[0-9]{2})-(?P<month>[0-9]{2})-(?P<year>[0-9]{4})\")\n",
    "l = re.search(r,s)\n",
    "if l:\n",
    "    print(l.group(\"year\"))\n",
    "else:\n",
    "    print(\"Invalid date\")"
   ]
  },
  {
   "cell_type": "code",
   "execution_count": null,
   "metadata": {},
   "outputs": [],
   "source": [
    "[a-zA-Z0-9] => \\w \n",
    "[^a-zA-Z0-9]   \\W\n",
    "\n",
    "Space \\s\n",
    "other than space  \\S\n",
    "\n",
    "[0-9] \\d\n",
    "[^0-9] \\D"
   ]
  },
  {
   "cell_type": "code",
   "execution_count": 111,
   "metadata": {},
   "outputs": [
    {
     "name": "stdout",
     "output_type": "stream",
     "text": [
      "['1234']\n"
     ]
    }
   ],
   "source": [
    "s = \"abcd1234\"\n",
    "r  = re.compile(\"[^a-z]+\")\n",
    "l = re.findall(r,s)\n",
    "print(l)"
   ]
  },
  {
   "cell_type": "code",
   "execution_count": 114,
   "metadata": {},
   "outputs": [
    {
     "name": "stdout",
     "output_type": "stream",
     "text": [
      "['PEP 538: Legacy C Locale Coercion\\n', 'An ongoing challenge within the Python 3 series has been determining a sensible default strategy for handling the “7-bit ASCII” text encoding assumption currently implied by the use of the default C or POSIX locale on non-Windows platforms.\\n', '\\n', 'PEP 538 updates the default interpreter command line interface to automatically coerce that locale to an available UTF-8 based locale as described in the documentation of the new PYTHONCOERCECLOCALE environment variable. Automatically setting LC_CTYPE this way means that both the core interpreter and locale-aware C extensions (such as readline) will assume the use of UTF-8 as the default text encoding, rather than ASCII.\\n', '\\n', 'The platform support definition in PEP 11 has also been updated to limit full text handling support to suitably configured non-ASCII based locales.\\n', '\\n', 'As part of this change, the default error handler for stdin and stdout is now surrogateescape (rather than strict) when using any of the defined coercion target locales (currently C.UTF-8, C.utf8, and UTF-8). The default error handler for stderr continues to be backslashreplace, regardless of locale.\\n', '\\n', 'Locale coercion is silent by default, but to assist in debugging potentially locale related integration problems, explicit warnings (emitted directly on stderr) can be requested by setting PYTHONCOERCECLOCALE=warn. This setting will also cause the Python runtime to emit a warning if the legacy C locale remains active when the core interpreter is initialized.\\n', '\\n', 'While PEP 538’s locale coercion has the benefit of also affecting extension modules (such as GNU readline), as well as child processes (including those running non-Python applications and older versions of Python), it has the downside of requiring that a suitable target locale be present on the running system. To better handle the case where no suitable target locale is available (as occurs on RHEL/CentOS 7, for example), Python 3.7 also implements PEP 540: Forced UTF-8 Runtime Mode.\\n', '\\n', 'See also\\n', 'PEP 538 – Coercing the legacy C locale to a UTF-8 based locale\\n', 'PEP written and implemented by Nick Coghlan.\\n', '\\n', 'PEP 540: Forced UTF-8 Runtime Mode\\n', 'The new -X utf8 command line option and PYTHONUTF8 environment variable can be used to enable the CPython UTF-8 mode.\\n', '\\n', 'When in UTF-8 mode, CPython ignores the locale settings, and uses the UTF-8 encoding by default. The error handlers for sys.stdin and sys.stdout streams are set to surrogateescape.\\n', '\\n', 'The forced UTF-8 mode can be used to change the text handling behavior in an embedded Python interpreter without changing the locale settings of an embedding application.\\n', '\\n', 'While PEP 540’s UTF-8 mode has the benefit of working regardless of which locales are available on the running system, it has the downside of having no effect on extension modules (such as GNU readline), child processes running non-Python applications, and child processes running older versions of Python. To reduce the risk of corrupting text data when communicating with such components, Python 3.7 also implements PEP 540: Forced UTF-8 Runtime Mode).\\n', '\\n', 'The UTF-8 mode is enabled by default when the locale is C or POSIX, and the PEP 538 locale coercion feature fails to change it to a UTF-8 based alternative (whether that failure is due to PYTHONCOERCECLOCALE=0 being set, LC_ALL being set, or the lack of a suitable target locale).\\n', '\\n', 'See also\\n', 'PEP 540 – Add a new UTF-8 mode\\n', 'PEP written and implemented by Victor Stinner\\n', '\\n', 'PEP 553: Built-in breakpoint()\\n', 'Python 3.7 includes the new built-in breakpoint() function as an easy and consistent way to enter the Python debugger.\\n', '\\n', 'Built-in breakpoint() calls sys.breakpointhook(). By default, the latter imports pdb and then calls pdb.set_trace(), but by binding sys.breakpointhook() to the function of your choosing, breakpoint() can enter any debugger. Additionally, the environment variable PYTHONBREAKPOINT can be set to the callable of your debugger of choice. Set PYTHONBREAKPOINT=0 to completely disable built-in breakpoint().\\n', '\\n', 'See also\\n', 'PEP 553 – Built-in breakpoint()\\n', 'PEP written and implemented by Barry Warsaw\\n', '\\n', 'PEP 539: New C API for Thread-Local Storage¶\\n', 'While Python provides a C API for thread-local storage support; the existing Thread Local Storage (TLS) API has used int to represent TLS keys across all platforms. This has not generally been a problem for officially-support platforms, but that is neither POSIX-compliant, nor portable in any practical sense.\\n', '\\n', 'PEP 539 changes this by providing a new Thread Specific Storage (TSS) API to CPython which supersedes use of the existing TLS API within the CPython interpreter, while deprecating the existing API. The TSS API uses a new type Py_tss_t instead of int to represent TSS keys–an opaque type the definition of which may depend on the underlying TLS implementation. Therefore, this will allow to build CPython on platforms where the native TLS key is defined in a way that cannot be safely cast to int.\\n', '\\n', 'Note that on platforms where the native TLS key is defined in a way that cannot be safely cast to int, all functions of the existing TLS API will be no-op and immediately return failure. This indicates clearly that the old API is not supported on platforms where it cannot be used reliably, and that no effort will be made to add such support.']\n"
     ]
    }
   ],
   "source": [
    "fp = open(\"test3.txt\",\"r\",encoding = 'utf-8')\n",
    "content = fp.readlines()\n",
    "print(content)"
   ]
  },
  {
   "cell_type": "code",
   "execution_count": 7,
   "metadata": {},
   "outputs": [],
   "source": [
    "import re\n",
    "fp = open(\"test3.txt\",\"r\",encoding = 'utf-8')\n",
    "content = fp.read()\n",
    "r = re.compile(\"PEP\\s[0-9]{3}:\\s[a-zA-Z ]+\")\n",
    "l = re.findall(r,content)\n",
    "# print(l)\n",
    "\n",
    "# s = (\"\\n\").join(l)\n",
    "# print(s)\n",
    "\n",
    "# fp2 = open(\"file3.txt\",\"w\")\n",
    "# fp2.write(s)\n",
    "# fp2.close()\n",
    "\n",
    "fp2 = open(\"file3.txt\",\"w\")\n",
    "fp2.writelines(l)\n",
    "fp2.close()\n"
   ]
  },
  {
   "cell_type": "code",
   "execution_count": null,
   "metadata": {},
   "outputs": [],
   "source": [
    "XML and JSON "
   ]
  },
  {
   "cell_type": "code",
   "execution_count": null,
   "metadata": {},
   "outputs": [],
   "source": [
    "array [10,20,30,\"Python\"]       List \n",
    "Object {\"key\":\"value\"}          Dict\n",
    "\"\"                              Str \"\" '' \"\"\" \"\"\"\n",
    "number 10 12.255                int float \n",
    "                                tuple \n",
    "                                set  "
   ]
  },
  {
   "cell_type": "code",
   "execution_count": 22,
   "metadata": {},
   "outputs": [
    {
     "name": "stdout",
     "output_type": "stream",
     "text": [
      "example glossary\n",
      "{\n",
      "    \"glossary\": {\n",
      "        \"title\": \"Set new title to JSON\",\n",
      "        \"GlossDiv\": {\n",
      "            \"title\": \"S\",\n",
      "            \"GlossList\": {\n",
      "                \"GlossEntry\": {\n",
      "                    \"ID\": [\n",
      "                        \"SGML\",\n",
      "                        \"HTML\"\n",
      "                    ],\n",
      "                    \"SortAs\": \"SGML\",\n",
      "                    \"GlossTerm\": \"Standard Generalized Markup Language\",\n",
      "                    \"Acronym\": \"SGML\",\n",
      "                    \"Abbrev\": \"ISO 8879:1986\",\n",
      "                    \"GlossDef\": {\n",
      "                        \"para\": \"A meta-markup language, used to create markup languages such as DocBook.\",\n",
      "                        \"GlossSeeAlso\": [\n",
      "                            \"GML\",\n",
      "                            \"XML\"\n",
      "                        ]\n",
      "                    },\n",
      "                    \"GlossSee\": \"markup\"\n",
      "                }\n",
      "            }\n",
      "        }\n",
      "    }\n",
      "}\n"
     ]
    }
   ],
   "source": [
    "import json\n",
    "fp = open(\"test1.json\",\"r\")\n",
    "content = fp.read()\n",
    "# print(content)\n",
    "d = json.loads(content)\n",
    "print(d['glossary']['title'])\n",
    "d['glossary']['title'] = \"Set new title to JSON\"\n",
    "# print(d['glossary']['GlossDiv']['GlossList']['GlossEntry']['ID'])\n",
    "d['glossary']['GlossDiv']['GlossList']['GlossEntry']['ID'] = (\"SGML\",\"HTML\")\n",
    "\n",
    "# print(d)\n",
    "j = json.dumps(d,indent=4)\n",
    "print(j)\n",
    "\n",
    "fp2 = open(\"test2.json\",\"w\")\n",
    "fp2.write(j)\n",
    "fp2.close()\n",
    "\n",
    "fp.close()"
   ]
  },
  {
   "cell_type": "code",
   "execution_count": 25,
   "metadata": {},
   "outputs": [
    {
     "name": "stdout",
     "output_type": "stream",
     "text": [
      "example glossary\n"
     ]
    }
   ],
   "source": [
    "import json\n",
    "fp = open(\"test1.json\",\"r\")\n",
    "d = json.load(fp)\n",
    "\n",
    "print(d['glossary']['title'])\n",
    "d['glossary']['title'] = \"Set new title to JSON\"\n",
    "\n",
    "d['glossary']['GlossDiv']['GlossList']['GlossEntry']['ID'] = (\"SGML\",\"HTML\")\n",
    "\n",
    "fp2 = open(\"test2.json\",\"w\")\n",
    "j = json.dump(d,fp2,indent=4)\n",
    "\n",
    "fp2.close()\n",
    "\n",
    "fp.close()"
   ]
  },
  {
   "cell_type": "code",
   "execution_count": null,
   "metadata": {},
   "outputs": [],
   "source": [
    "loads(json str) => convert JSON str => py Dict  \n",
    "dumps(dict) => py Dict => JSON Str\n",
    "\n",
    "load(fp) => convert JSON fp => py dict  \n",
    "dump(dict,fp) => convert py dict to JSON file "
   ]
  },
  {
   "cell_type": "code",
   "execution_count": null,
   "metadata": {},
   "outputs": [],
   "source": [
    "pip install xmltodict"
   ]
  },
  {
   "cell_type": "code",
   "execution_count": null,
   "metadata": {},
   "outputs": [],
   "source": [
    "<note>\n",
    "    <to>ABC</to>\n",
    "    <from>PQR</from>\n",
    "    <msg type=\"email\">Session at 10 am</msg>\n",
    "</note>"
   ]
  },
  {
   "cell_type": "code",
   "execution_count": null,
   "metadata": {},
   "outputs": [],
   "source": [
    "Tag => Note\n",
    "Text node => ABC\n",
    "Attributes = > type = \"email\""
   ]
  },
  {
   "cell_type": "code",
   "execution_count": 36,
   "metadata": {},
   "outputs": [
    {
     "name": "stdout",
     "output_type": "stream",
     "text": [
      "example glossary\n",
      "<?xml version=\"1.0\" encoding=\"utf-8\"?>\n",
      "<glossary><title>New title for XML</title><GlossDiv><title>S</title><GlossList><GlossEntry ID=\"HTML\" SortAs=\"SGML\"><GlossTerm>Standard Generalized Markup Language</GlossTerm><Acronym>SGML</Acronym><Abbrev>ISO 8879:1986</Abbrev><GlossDef><para>A meta-markup language, used to create markup\n",
      "languages such as DocBook.</para><GlossSeeAlso OtherTerm=\"GML\"></GlossSeeAlso><GlossSeeAlso OtherTerm=\"XML\"></GlossSeeAlso></GlossDef><GlossSee OtherTerm=\"markup\"></GlossSee></GlossEntry></GlossList></GlossDiv></glossary>\n"
     ]
    }
   ],
   "source": [
    "import xmltodict\n",
    "fp = open(\"test1.xml\",\"r\")\n",
    "content = fp.read()\n",
    "\n",
    "d = xmltodict.parse(content)\n",
    "print(d['glossary']['title'])\n",
    "\n",
    "d['glossary']['title'] = \"New title for XML\"\n",
    "# print(d)\n",
    "# print(d['glossary']['GlossDiv']['GlossList']['GlossEntry']['@ID'])\n",
    "d['glossary']['GlossDiv']['GlossList']['GlossEntry']['@ID'] =\"HTML\"\n",
    "\n",
    "# print(d)\n",
    "\n",
    "x = xmltodict.unparse(d)\n",
    "print(x)\n",
    "\n",
    "fp2 = open(\"test2.xml\",\"w\")\n",
    "fp2.write(x)\n",
    "fp2.close()\n",
    "fp.close()"
   ]
  },
  {
   "cell_type": "code",
   "execution_count": null,
   "metadata": {},
   "outputs": [],
   "source": [
    "\n"
   ]
  }
 ],
 "metadata": {
  "kernelspec": {
   "display_name": "Python 3",
   "language": "python",
   "name": "python3"
  },
  "language_info": {
   "codemirror_mode": {
    "name": "ipython",
    "version": 3
   },
   "file_extension": ".py",
   "mimetype": "text/x-python",
   "name": "python",
   "nbconvert_exporter": "python",
   "pygments_lexer": "ipython3",
   "version": "3.6.5"
  }
 },
 "nbformat": 4,
 "nbformat_minor": 2
}
