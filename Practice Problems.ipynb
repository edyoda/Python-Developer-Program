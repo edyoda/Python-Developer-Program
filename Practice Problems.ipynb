{
 "cells": [
  {
   "cell_type": "markdown",
   "metadata": {},
   "source": [
    "1.Write a program to print Collatz Conjecture sequence for number 50.\n",
    "\n",
    "Collatz Conjecture: Take any number n. If n is even, divide it by 2, if\n",
    "n is odd, multiply it by 3 and add 1. Repeat the process indefinitely\n",
    "and you'll eventually reach 1."
   ]
  },
  {
   "cell_type": "markdown",
   "metadata": {},
   "source": [
    "2.Caesar's cipher shifts each letter by a number of letters. If the shift takes you past the end of the alphabet, just rotate back to the front of the alphabet. In the case of rotation by 3, w, x, y, and z would map to z, a, b and c.\n",
    "For example, if the string is: \"welcome\" and the shift is 4 the output will be \"aipgtqi\"\n",
    "\n"
   ]
  },
  {
   "cell_type": "markdown",
   "metadata": {},
   "source": [
    "3.Write a program to find all pairs in a list of Integers Whose sum is equal to a given Number.\n",
    "\n",
    "For example nums = [1,2,3,4,5] sum = 7 \n",
    "expected output is ans = [(3,4),(2,5),(4,3),(5,2)]"
   ]
  },
  {
   "cell_type": "markdown",
   "metadata": {},
   "source": [
    "4.Given a list of test scores, where the maximum score is 100, write code that prints the number of scores that are in the range 0-9, 10-19, 20-29, ... 80-89, 90-100. For example, given the list of scores : [ 12, 90, 100, 52, 56, 76, 92, 83, 39, 77, 73, 70, 80 ]\n",
    "\n",
    "The output should be :\n",
    "\n",
    "{(1,10): 0, (11,20): 1, (21,30): 0, (31,40): 1, (41,50): 0, (51,60): 2, (61,70): 0, (71,80): 4, (81,90): 2, (91,100): 3}"
   ]
  },
  {
   "cell_type": "markdown",
   "metadata": {},
   "source": [
    "5.Given a dict of tickets(\"to\":\"from\"){\"Chennai\":\"Banglore\",\"Bombay\":\"Delhi\",\"Goa\":\"Chennai\",\"Delhi\":\"Goa\"} find out the sequence of travel.\n",
    "\n",
    "{\"Chennai\":\"Banglore\",\"Bombay\":\"Delhi\",\"Goa\":\"Chennai\",\"Delhi\":\"Goa\"} Expected Output :Bombay->Delhi, Delhi->Goa, Goa->Chennai, Chennai->Banglore"
   ]
  },
  {
   "cell_type": "markdown",
   "metadata": {},
   "source": [
    "6.Write a program to check if two given strings are an anagram of each other or not.\n",
    "Anagram Strings: Two strings are anagrams if they are written using the exact letters, ignoring space, punctuation, and capitalization.\n",
    "\n",
    "For example : Input: \"Army\" and \"Mary\" Output \"Strings are anagrams of each other\""
   ]
  }
 ],
 "metadata": {
  "kernelspec": {
   "display_name": "Python 3",
   "language": "python",
   "name": "python3"
  },
  "language_info": {
   "codemirror_mode": {
    "name": "ipython",
    "version": 3
   },
   "file_extension": ".py",
   "mimetype": "text/x-python",
   "name": "python",
   "nbconvert_exporter": "python",
   "pygments_lexer": "ipython3",
   "version": "3.6.5"
  }
 },
 "nbformat": 4,
 "nbformat_minor": 2
}
